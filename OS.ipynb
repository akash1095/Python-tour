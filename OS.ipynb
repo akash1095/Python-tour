{
 "cells": [
  {
   "cell_type": "markdown",
   "metadata": {},
   "source": [
    "### OS\n"
   ]
  },
  {
   "cell_type": "code",
   "execution_count": 1,
   "metadata": {},
   "outputs": [],
   "source": [
    "import os"
   ]
  },
  {
   "cell_type": "markdown",
   "metadata": {},
   "source": [
    "The os module allows us to access functionality of the underlying operating system. So we can perform tasks such as: navigate the file system, obtain file information, rename files, search directory trees, fetch environment variables, and many other operations. "
   ]
  },
  {
   "cell_type": "code",
   "execution_count": 4,
   "metadata": {
    "scrolled": true
   },
   "outputs": [
    {
     "name": "stdout",
     "output_type": "stream",
     "text": [
      "['DirEntry', 'F_OK', 'MutableMapping', 'O_APPEND', 'O_BINARY', 'O_CREAT', 'O_EXCL', 'O_NOINHERIT', 'O_RANDOM', 'O_RDONLY', 'O_RDWR', 'O_SEQUENTIAL', 'O_SHORT_LIVED', 'O_TEMPORARY', 'O_TEXT', 'O_TRUNC', 'O_WRONLY', 'P_DETACH', 'P_NOWAIT', 'P_NOWAITO', 'P_OVERLAY', 'P_WAIT', 'PathLike', 'R_OK', 'SEEK_CUR', 'SEEK_END', 'SEEK_SET', 'TMP_MAX', 'W_OK', 'X_OK', '_AddedDllDirectory', '_Environ', '__all__', '__builtins__', '__cached__', '__doc__', '__file__', '__loader__', '__name__', '__package__', '__spec__', '_check_methods', '_execvpe', '_exists', '_exit', '_fspath', '_get_exports_list', '_putenv', '_unsetenv', '_wrap_close', 'abc', 'abort', 'access', 'add_dll_directory', 'altsep', 'chdir', 'chmod', 'close', 'closerange', 'cpu_count', 'curdir', 'defpath', 'device_encoding', 'devnull', 'dup', 'dup2', 'environ', 'error', 'execl', 'execle', 'execlp', 'execlpe', 'execv', 'execve', 'execvp', 'execvpe', 'extsep', 'fdopen', 'fsdecode', 'fsencode', 'fspath', 'fstat', 'fsync', 'ftruncate', 'get_exec_path', 'get_handle_inheritable', 'get_inheritable', 'get_terminal_size', 'getcwd', 'getcwdb', 'getenv', 'getlogin', 'getpid', 'getppid', 'isatty', 'kill', 'linesep', 'link', 'listdir', 'lseek', 'lstat', 'makedirs', 'mkdir', 'name', 'open', 'pardir', 'path', 'pathsep', 'pipe', 'popen', 'putenv', 'read', 'readlink', 'remove', 'removedirs', 'rename', 'renames', 'replace', 'rmdir', 'scandir', 'sep', 'set_handle_inheritable', 'set_inheritable', 'spawnl', 'spawnle', 'spawnv', 'spawnve', 'st', 'startfile', 'stat', 'stat_result', 'statvfs_result', 'strerror', 'supports_bytes_environ', 'supports_dir_fd', 'supports_effective_ids', 'supports_fd', 'supports_follow_symlinks', 'symlink', 'sys', 'system', 'terminal_size', 'times', 'times_result', 'truncate', 'umask', 'uname_result', 'unlink', 'urandom', 'utime', 'waitpid', 'walk', 'write']\n"
     ]
    }
   ],
   "source": [
    "print(dir(os))\n",
    "# this will show all the attributes and method available in the module."
   ]
  },
  {
   "cell_type": "markdown",
   "metadata": {},
   "source": [
    "## so here we are going to see some of them. The most useful one."
   ]
  },
  {
   "cell_type": "markdown",
   "metadata": {},
   "source": [
    "## 1 ) Navigation"
   ]
  },
  {
   "cell_type": "code",
   "execution_count": 12,
   "metadata": {},
   "outputs": [
    {
     "name": "stdout",
     "output_type": "stream",
     "text": [
      "c:\\Python\\Jupyter\\other built in modules\n"
     ]
    }
   ],
   "source": [
    "# navigation\n",
    "print (os.getcwd()) #to know current directory\n",
    "os.chdir(\"c:\\Python\\Jupyter\")"
   ]
  },
  {
   "cell_type": "code",
   "execution_count": 13,
   "metadata": {},
   "outputs": [
    {
     "name": "stdout",
     "output_type": "stream",
     "text": [
      "c:\\Python\\Jupyter\n"
     ]
    }
   ],
   "source": [
    "print(os.getcwd())"
   ]
  },
  {
   "cell_type": "code",
   "execution_count": 14,
   "metadata": {},
   "outputs": [
    {
     "name": "stdout",
     "output_type": "stream",
     "text": [
      "c:\\Python\\Jupyter\\other built in modules\n"
     ]
    }
   ],
   "source": [
    "#going back to our original directory.\n",
    "os.chdir(\"c:/Python/Jupyter/other built in modules/\")\n",
    "print(os.getcwd())"
   ]
  },
  {
   "cell_type": "markdown",
   "metadata": {},
   "source": [
    "## listing, creating, deleting and Rename folders"
   ]
  },
  {
   "cell_type": "code",
   "execution_count": 32,
   "metadata": {},
   "outputs": [
    {
     "name": "stdout",
     "output_type": "stream",
     "text": [
      "['.ipynb_checkpoints', 'Demo_folder', 'Test.txt', 'Untitled.ipynb']\n"
     ]
    }
   ],
   "source": [
    "print(os.listdir()) #list all the file in the current dirctory."
   ]
  },
  {
   "cell_type": "code",
   "execution_count": 37,
   "metadata": {},
   "outputs": [
    {
     "name": "stdout",
     "output_type": "stream",
     "text": [
      "['.ipynb_checkpoints', 'Demo_folder', 'Test.txt', 'Untitled.ipynb']\n"
     ]
    }
   ],
   "source": [
    "#creating folders and subfolder\n",
    "os.mkdir(\"Demo_folder\") #this cmd used create folder in current directory.\n",
    "# If we need folder in different directory we need to specific the path.\n",
    "print(os.listdir())"
   ]
  },
  {
   "cell_type": "code",
   "execution_count": 38,
   "metadata": {},
   "outputs": [],
   "source": [
    "os.makedirs(\"Demo_folder11\\demo_folder\\Demo_folder\")\n",
    "#special command makedirs used to create folder and sub folder.\n",
    "#thet means sepetrate level of folders."
   ]
  },
  {
   "cell_type": "code",
   "execution_count": 39,
   "metadata": {},
   "outputs": [
    {
     "name": "stdout",
     "output_type": "stream",
     "text": [
      "['.ipynb_checkpoints', 'Demo_folder', 'Demo_folder11', 'Test.txt', 'Untitled.ipynb']\n"
     ]
    }
   ],
   "source": [
    "print(os.listdir())"
   ]
  },
  {
   "cell_type": "code",
   "execution_count": 40,
   "metadata": {},
   "outputs": [],
   "source": [
    "os.rmdir(\"Demo_folder\")         # remove single folder like mkdir\n",
    "os.removedirs(\"Demo_folder11\\demo_folder\\Demo_folder\") # delete folder and subfolders.\n",
    "#.removedirs will delete all folder at one go, it is better to use rmdir."
   ]
  },
  {
   "cell_type": "code",
   "execution_count": 41,
   "metadata": {},
   "outputs": [
    {
     "name": "stdout",
     "output_type": "stream",
     "text": [
      "['.ipynb_checkpoints', 'Test.txt', 'Untitled.ipynb']\n",
      "['.ipynb_checkpoints', 'Name_change', 'Untitled.ipynb']\n"
     ]
    }
   ],
   "source": [
    "# Rename \n",
    "print(os.listdir())\n",
    "os.rename('Test.txt', \"Name_change\") #first current name of the file,then new name with format.\n",
    "print(os.listdir())"
   ]
  },
  {
   "cell_type": "markdown",
   "metadata": {},
   "source": [
    "## getting information about our file."
   ]
  },
  {
   "cell_type": "code",
   "execution_count": 45,
   "metadata": {},
   "outputs": [
    {
     "name": "stdout",
     "output_type": "stream",
     "text": [
      "os.stat_result(st_mode=33206, st_ino=15481123719097753, st_dev=3700390183, st_nlink=1, st_uid=0, st_gid=0, st_size=207, st_atime=1595302165, st_mtime=1595302165, st_ctime=1595301693)\n"
     ]
    }
   ],
   "source": [
    "print(os.stat('Name_change')) #these are the details of the file.(refer OS doc.)"
   ]
  },
  {
   "cell_type": "code",
   "execution_count": 48,
   "metadata": {},
   "outputs": [
    {
     "name": "stdout",
     "output_type": "stream",
     "text": [
      "207\n",
      "1595302165.443251\n"
     ]
    }
   ],
   "source": [
    "# getting particularinfo of the file\n",
    "print(os.stat('Name_change').st_size)# file size\n",
    "print (os.stat(\"Name_change\").st_mtime)# last modification time\n",
    "#207 bytes \n",
    "#mtime is in time stamp format. in order to get with proper format, we need to use datetime module."
   ]
  },
  {
   "cell_type": "code",
   "execution_count": 52,
   "metadata": {},
   "outputs": [
    {
     "name": "stdout",
     "output_type": "stream",
     "text": [
      "2020-07-21 08:59:25.443251\n"
     ]
    }
   ],
   "source": [
    "from datetime import datetime\n",
    "mod_time = os.stat(\"Name_change\").st_mtime\n",
    "print(datetime.fromtimestamp(mod_time))\n",
    "\n",
    "#this is human readable time format."
   ]
  },
  {
   "cell_type": "markdown",
   "metadata": {},
   "source": [
    "## explore the the files in cwd"
   ]
  },
  {
   "cell_type": "code",
   "execution_count": 61,
   "metadata": {},
   "outputs": [
    {
     "name": "stdout",
     "output_type": "stream",
     "text": [
      "Current Path:  c:\\Python\\Jupyter\\other built in modules\n",
      "Directories : ['.ipynb_checkpoints', 'folder']\n",
      "Files :  ['Name_change', 'Untitled.ipynb']\n",
      "\n",
      "Current Path:  c:\\Python\\Jupyter\\other built in modules\\.ipynb_checkpoints\n",
      "Directories : []\n",
      "Files :  ['Untitled-checkpoint.ipynb']\n",
      "\n",
      "Current Path:  c:\\Python\\Jupyter\\other built in modules\\folder\n",
      "Directories : ['sub-folder1']\n",
      "Files :  ['file one.txt']\n",
      "\n",
      "Current Path:  c:\\Python\\Jupyter\\other built in modules\\folder\\sub-folder1\n",
      "Directories : ['sub folder 2']\n",
      "Files :  ['files 2.txt']\n",
      "\n",
      "Current Path:  c:\\Python\\Jupyter\\other built in modules\\folder\\sub-folder1\\sub folder 2\n",
      "Directories : []\n",
      "Files :  []\n",
      "\n"
     ]
    }
   ],
   "source": [
    "for dirpath, dirnames, filenames in os.walk('c:\\Python\\Jupyter\\other built in modules'):\n",
    "    print (\"Current Path: \", dirpath)\n",
    "    print(\"Directories :\", dirnames)\n",
    "    print(\"Files : \", filenames)\n",
    "    print()\n",
    "    \n",
    "    #it used to walk thorough the entire file and folder in the current directory"
   ]
  },
  {
   "cell_type": "markdown",
   "metadata": {},
   "source": [
    "## Pick by Environmental variable."
   ]
  },
  {
   "cell_type": "code",
   "execution_count": 93,
   "metadata": {
    "scrolled": true
   },
   "outputs": [
    {
     "name": "stdout",
     "output_type": "stream",
     "text": [
      "C:\\Users\\AKASHS~1\\AppData\\Local\\Temp\n"
     ]
    }
   ],
   "source": [
    "print(os.environ.get(\"TEMP\")) #for example we wil create a file in temp folder"
   ]
  },
  {
   "cell_type": "code",
   "execution_count": 96,
   "metadata": {},
   "outputs": [
    {
     "name": "stdout",
     "output_type": "stream",
     "text": [
      "C:\\Users\\AKASHS~1\\AppData\\Local\\Temptest.txt\n"
     ]
    }
   ],
   "source": [
    "file_path = os.environ.get(\"TEMP\")+ \"test.txt\"# we may forget / slash often so use second method.\n",
    "print(file_path)"
   ]
  },
  {
   "cell_type": "code",
   "execution_count": 97,
   "metadata": {},
   "outputs": [],
   "source": [
    "file_path = os.path.join(os.environ.get('TEMP'), 'test.txt')"
   ]
  },
  {
   "cell_type": "code",
   "execution_count": 100,
   "metadata": {},
   "outputs": [
    {
     "name": "stdout",
     "output_type": "stream",
     "text": [
      "C:\\Users\\AKASHS~1\\AppData\\Local\\Temp\\test.txt\n"
     ]
    }
   ],
   "source": [
    "print(file_path) # this is a correct way to do.\n",
    "# it doesn't create files,"
   ]
  },
  {
   "cell_type": "code",
   "execution_count": 112,
   "metadata": {},
   "outputs": [
    {
     "name": "stdout",
     "output_type": "stream",
     "text": [
      "Local\tmp\test.txt\n",
      "Documents\n"
     ]
    }
   ],
   "source": [
    "print(os.path.basename('Users\\AKASHS~1\\AppData\\Local\\tmp\\test.txt'))\n",
    "print(os.path.basename('Akash sujith\\Documents'))\n",
    "# the basename of above path is Temp est.txt"
   ]
  },
  {
   "cell_type": "code",
   "execution_count": 122,
   "metadata": {},
   "outputs": [
    {
     "name": "stdout",
     "output_type": "stream",
     "text": [
      "Users\\AKASHS~1\\AppData\\Local\n",
      "('Users\\\\AKASHS~1\\\\AppData\\\\Local', 'Temp\\test.txt')\n",
      "('User\\\\Akash sujith', 'documwnt')\n"
     ]
    }
   ],
   "source": [
    "print(os.path.dirname('Users\\AKASHS~1\\AppData\\Local\\Temp\\test.txt'))\n",
    "#dir name of spcific path\n",
    "print(os.path.split('Users\\AKASHS~1\\AppData\\Local\\Temp\\test.txt'))\n",
    "print(os.path.split('User\\Akash sujith/documwnt'))\n",
    "\n"
   ]
  },
  {
   "cell_type": "code",
   "execution_count": 124,
   "metadata": {},
   "outputs": [
    {
     "name": "stdout",
     "output_type": "stream",
     "text": [
      "False\n",
      "False\n"
     ]
    },
    {
     "data": {
      "text/plain": [
       "False"
      ]
     },
     "execution_count": 124,
     "metadata": {},
     "output_type": "execute_result"
    }
   ],
   "source": [
    "#files existence check\n",
    "print(os.path.exists('Users\\AKASHS~1\\AppData\\Local\\Temp\\test.txt'))\n",
    "print(os.path.isdir(\"Users\\AKASHS~1\\AppData\\Local\\Temp\\test.txt\"))\n",
    "\n",
    "os.path.isfile('Users\\AKASHS~1\\AppData\\Local\\Temp\\test.txt')"
   ]
  },
  {
   "cell_type": "code",
   "execution_count": 127,
   "metadata": {},
   "outputs": [
    {
     "name": "stdout",
     "output_type": "stream",
     "text": [
      "('AppData\\\\Local\\\\Temp\\test', '.txt')\n"
     ]
    }
   ],
   "source": [
    "# to parse out the extension\n",
    "print(os.path.splitext('AppData\\Local\\Temp\\test.txt'))\n",
    "# it seperates the path and files extension"
   ]
  },
  {
   "cell_type": "code",
   "execution_count": null,
   "metadata": {},
   "outputs": [],
   "source": []
  }
 ],
 "metadata": {
  "kernelspec": {
   "display_name": "Python 3",
   "language": "python",
   "name": "python3"
  },
  "language_info": {
   "codemirror_mode": {
    "name": "ipython",
    "version": 3
   },
   "file_extension": ".py",
   "mimetype": "text/x-python",
   "name": "python",
   "nbconvert_exporter": "python",
   "pygments_lexer": "ipython3",
   "version": "3.8.2"
  }
 },
 "nbformat": 4,
 "nbformat_minor": 4
}
